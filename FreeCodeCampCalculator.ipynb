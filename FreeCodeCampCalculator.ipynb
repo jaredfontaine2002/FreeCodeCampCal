{
 "cells": [
  {
   "cell_type": "code",
   "execution_count": 1,
   "metadata": {},
   "outputs": [],
   "source": [
    "import numpy as np"
   ]
  },
  {
   "cell_type": "code",
   "execution_count": 40,
   "metadata": {},
   "outputs": [],
   "source": [
    "a = 0,1,2,3,4,5,6,7,8\n"
   ]
  },
  {
   "cell_type": "code",
   "execution_count": 41,
   "metadata": {},
   "outputs": [
    {
     "data": {
      "text/plain": [
       "(0, 1, 2, 3, 4, 5, 6, 7, 8)"
      ]
     },
     "execution_count": 41,
     "metadata": {},
     "output_type": "execute_result"
    }
   ],
   "source": [
    "a"
   ]
  },
  {
   "cell_type": "code",
   "execution_count": 72,
   "metadata": {},
   "outputs": [],
   "source": [
    "def cal(self):\n",
    "    \n",
    "    \n",
    "   \n",
    "    Array = np.array(self)\n",
    "    \n",
    "    \n",
    "    if Array.size != 9:\n",
    "        print(\"Please use 9 digits\")\n",
    "    else:\n",
    "\n",
    "         ## Reshape into Array\n",
    "        New = np.reshape(Array,(3,3))\n",
    "\n",
    "        ### Mean\n",
    "        Axis1 = np.mean(New, axis = 1)\n",
    "        Axis2 = np.mean(New, axis = 0)\n",
    "        Flat= New.flatten().mean()\n",
    "        Mean2 = np.hstack((Axis2, Axis1, Flat)).tolist()\n",
    "\n",
    "        ### Variance\n",
    "\n",
    "        Var1 =np.var(New, axis =0)\n",
    "        Var2 =np.var(New, axis=1)\n",
    "        VarFlat= New.flatten().var()\n",
    "        VarFin = np.hstack((Var1,Var2,VarFlat)).tolist()\n",
    "\n",
    "        ## Standard D\n",
    "\n",
    "        Stand1 = np.std(New, axis=0)\n",
    "        Stand2 = np.std(New, axis=1)\n",
    "        StdFlat = New.flatten().var()\n",
    "        StdFin = np.hstack((Stand1,Stand2,StdFlat)).tolist()\n",
    "\n",
    "        ## Max \n",
    "\n",
    "        Max1 = np.max(New, axis=0)\n",
    "        Max2 = np.max(New, axis=1)\n",
    "        MaxFlat = New.flatten().max()\n",
    "        MaxFin = np.hstack((Stand1,Stand2,StdFlat)).tolist()\n",
    "\n",
    "        ## Min\n",
    "        Min1 = np.min(New, axis=0)\n",
    "        Min2 = np.min(New, axis=1)\n",
    "        MinFlat = New.flatten().min()\n",
    "        MinFin = np.hstack((Stand1,Stand2,StdFlat)).tolist()\n",
    "\n",
    "        ## Sum\n",
    "\n",
    "        Sum1 = np.sum(New, axis=0)\n",
    "        Sum2 = np.sum(New, axis=1)\n",
    "        SumFlat = New.flatten().sum()\n",
    "        SumFin = np.hstack((Stand1,Stand2,StdFlat)).tolist()\n",
    "\n",
    "\n",
    "\n",
    "        FINAL = {\n",
    "                \"mean\": Mean2,\n",
    "                \"Variance\": VarFin,\n",
    "                 \"StdFin\": StdFin,\n",
    "                \"MAX\": MaxFin,\n",
    "                 \"Min\": MinFin,\n",
    "                 \"Sum\": SumFin\n",
    "        }\n",
    "\n",
    "        return(FINAL)\n",
    "    \n",
    "    \n",
    "    "
   ]
  },
  {
   "cell_type": "code",
   "execution_count": 73,
   "metadata": {},
   "outputs": [
    {
     "data": {
      "text/plain": [
       "{'mean': [3.0, 4.0, 5.0, 1.0, 4.0, 7.0, 4.0],\n",
       " 'Variance': [6.0,\n",
       "  6.0,\n",
       "  6.0,\n",
       "  0.6666666666666666,\n",
       "  0.6666666666666666,\n",
       "  0.6666666666666666,\n",
       "  6.666666666666667],\n",
       " 'StdFin': [2.449489742783178,\n",
       "  2.449489742783178,\n",
       "  2.449489742783178,\n",
       "  0.816496580927726,\n",
       "  0.816496580927726,\n",
       "  0.816496580927726,\n",
       "  6.666666666666667],\n",
       " 'MAX': [2.449489742783178,\n",
       "  2.449489742783178,\n",
       "  2.449489742783178,\n",
       "  0.816496580927726,\n",
       "  0.816496580927726,\n",
       "  0.816496580927726,\n",
       "  6.666666666666667],\n",
       " 'Min': [2.449489742783178,\n",
       "  2.449489742783178,\n",
       "  2.449489742783178,\n",
       "  0.816496580927726,\n",
       "  0.816496580927726,\n",
       "  0.816496580927726,\n",
       "  6.666666666666667],\n",
       " 'Sum': [2.449489742783178,\n",
       "  2.449489742783178,\n",
       "  2.449489742783178,\n",
       "  0.816496580927726,\n",
       "  0.816496580927726,\n",
       "  0.816496580927726,\n",
       "  6.666666666666667]}"
      ]
     },
     "execution_count": 73,
     "metadata": {},
     "output_type": "execute_result"
    }
   ],
   "source": [
    "cal(a)\n"
   ]
  },
  {
   "cell_type": "code",
   "execution_count": null,
   "metadata": {},
   "outputs": [],
   "source": []
  },
  {
   "cell_type": "code",
   "execution_count": null,
   "metadata": {},
   "outputs": [],
   "source": []
  }
 ],
 "metadata": {
  "kernelspec": {
   "display_name": "Python 3",
   "language": "python",
   "name": "python3"
  },
  "language_info": {
   "codemirror_mode": {
    "name": "ipython",
    "version": 3
   },
   "file_extension": ".py",
   "mimetype": "text/x-python",
   "name": "python",
   "nbconvert_exporter": "python",
   "pygments_lexer": "ipython3",
   "version": "3.8.3"
  }
 },
 "nbformat": 4,
 "nbformat_minor": 4
}
